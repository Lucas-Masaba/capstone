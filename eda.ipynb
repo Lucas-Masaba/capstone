{
 "cells": [
  {
   "cell_type": "markdown",
   "metadata": {},
   "source": [
    "# Exploratory Data Analysis"
   ]
  },
  {
   "cell_type": "code",
   "execution_count": 1,
   "metadata": {},
   "outputs": [],
   "source": [
    "import pandas as pd\n",
    "import matplotlib.pyplot as plt\n",
    "import seaborn as sns"
   ]
  },
  {
   "cell_type": "code",
   "execution_count": 2,
   "metadata": {},
   "outputs": [],
   "source": [
    "train_demographics = pd.read_csv('./training-data/traindemographics.csv')\n",
    "train_performance = pd.read_csv('./training-data/trainperf.csv')\n",
    "train_previous_loans = pd.read_csv('./training-data/trainprevloans.csv')\n"
   ]
  },
  {
   "cell_type": "code",
   "execution_count": 3,
   "metadata": {},
   "outputs": [
    {
     "name": "stdout",
     "output_type": "stream",
     "text": [
      "                         customerid                   birthdate  \\\n",
      "0  8a858e135cb22031015cbafc76964ebd  1973-10-10 00:00:00.000000   \n",
      "1  8a858e275c7ea5ec015c82482d7c3996  1986-01-21 00:00:00.000000   \n",
      "2  8a858e5b5bd99460015bdc95cd485634  1987-04-01 00:00:00.000000   \n",
      "3  8a858efd5ca70688015cabd1f1e94b55  1991-07-19 00:00:00.000000   \n",
      "4  8a858e785acd3412015acd48f4920d04  1982-11-22 00:00:00.000000   \n",
      "\n",
      "  bank_account_type  longitude_gps  latitude_gps bank_name_clients  \\\n",
      "0           Savings       3.319219      6.528604           GT Bank   \n",
      "1           Savings       3.325598      7.119403     Sterling Bank   \n",
      "2           Savings       5.746100      5.563174     Fidelity Bank   \n",
      "3           Savings       3.362850      6.642485           GT Bank   \n",
      "4           Savings       8.455332     11.971410           GT Bank   \n",
      "\n",
      "  bank_branch_clients employment_status_clients level_of_education_clients  \n",
      "0                 NaN                       NaN                        NaN  \n",
      "1                 NaN                 Permanent                        NaN  \n",
      "2                 NaN                       NaN                        NaN  \n",
      "3                 NaN                 Permanent                        NaN  \n",
      "4                 NaN                 Permanent                        NaN  \n",
      "                         customerid  systemloanid  loannumber  \\\n",
      "0  8a2a81a74ce8c05d014cfb32a0da1049     301994762          12   \n",
      "1  8a85886e54beabf90154c0a29ae757c0     301965204           2   \n",
      "2  8a8588f35438fe12015444567666018e     301966580           7   \n",
      "3  8a85890754145ace015429211b513e16     301999343           3   \n",
      "4  8a858970548359cc0154883481981866     301962360           9   \n",
      "\n",
      "                 approveddate                creationdate  loanamount  \\\n",
      "0  2017-07-25 08:22:56.000000  2017-07-25 07:22:47.000000     30000.0   \n",
      "1  2017-07-05 17:04:41.000000  2017-07-05 16:04:18.000000     15000.0   \n",
      "2  2017-07-06 14:52:57.000000  2017-07-06 13:52:51.000000     20000.0   \n",
      "3  2017-07-27 19:00:41.000000  2017-07-27 18:00:35.000000     10000.0   \n",
      "4  2017-07-03 23:42:45.000000  2017-07-03 22:42:39.000000     40000.0   \n",
      "\n",
      "   totaldue  termdays referredby good_bad_flag  \n",
      "0   34500.0        30        NaN          Good  \n",
      "1   17250.0        30        NaN          Good  \n",
      "2   22250.0        15        NaN          Good  \n",
      "3   11500.0        15        NaN          Good  \n",
      "4   44000.0        30        NaN          Good  \n",
      "                         customerid  systemloanid  loannumber  \\\n",
      "0  8a2a81a74ce8c05d014cfb32a0da1049     301682320           2   \n",
      "1  8a2a81a74ce8c05d014cfb32a0da1049     301883808           9   \n",
      "2  8a2a81a74ce8c05d014cfb32a0da1049     301831714           8   \n",
      "3  8a8588f35438fe12015444567666018e     301861541           5   \n",
      "4  8a85890754145ace015429211b513e16     301941754           2   \n",
      "\n",
      "                 approveddate                creationdate  loanamount  \\\n",
      "0  2016-08-15 18:22:40.000000  2016-08-15 17:22:32.000000     10000.0   \n",
      "1  2017-04-28 18:39:07.000000  2017-04-28 17:38:53.000000     10000.0   \n",
      "2  2017-03-05 10:56:25.000000  2017-03-05 09:56:19.000000     20000.0   \n",
      "3  2017-04-09 18:25:55.000000  2017-04-09 17:25:42.000000     10000.0   \n",
      "4  2017-06-17 09:29:57.000000  2017-06-17 08:29:50.000000     10000.0   \n",
      "\n",
      "   totaldue  termdays                  closeddate referredby  \\\n",
      "0   13000.0        30  2016-09-01 16:06:48.000000        NaN   \n",
      "1   13000.0        30  2017-05-28 14:44:49.000000        NaN   \n",
      "2   23800.0        30  2017-04-26 22:18:56.000000        NaN   \n",
      "3   11500.0        15  2017-04-24 01:35:52.000000        NaN   \n",
      "4   11500.0        15  2017-07-14 21:18:43.000000        NaN   \n",
      "\n",
      "                 firstduedate             firstrepaiddate  \n",
      "0  2016-09-14 00:00:00.000000  2016-09-01 15:51:43.000000  \n",
      "1  2017-05-30 00:00:00.000000  2017-05-26 00:00:00.000000  \n",
      "2  2017-04-04 00:00:00.000000  2017-04-26 22:03:47.000000  \n",
      "3  2017-04-24 00:00:00.000000  2017-04-24 00:48:43.000000  \n",
      "4  2017-07-03 00:00:00.000000  2017-07-14 21:08:35.000000  \n"
     ]
    }
   ],
   "source": [
    "print(train_demographics.head())\n",
    "print(train_performance.head())\n",
    "print(train_previous_loans.head())"
   ]
  },
  {
   "cell_type": "markdown",
   "metadata": {},
   "source": [
    "### Checking for null values"
   ]
  },
  {
   "cell_type": "code",
   "execution_count": 5,
   "metadata": {},
   "outputs": [
    {
     "name": "stdout",
     "output_type": "stream",
     "text": [
      "customerid                       0\n",
      "birthdate                        0\n",
      "bank_account_type                0\n",
      "longitude_gps                    0\n",
      "latitude_gps                     0\n",
      "bank_name_clients                0\n",
      "bank_branch_clients           4295\n",
      "employment_status_clients      648\n",
      "level_of_education_clients    3759\n",
      "dtype: int64\n"
     ]
    }
   ],
   "source": [
    "# demographic data\n",
    "print(train_demographics.isnull().sum())"
   ]
  },
  {
   "cell_type": "code",
   "execution_count": 6,
   "metadata": {},
   "outputs": [
    {
     "name": "stdout",
     "output_type": "stream",
     "text": [
      "customerid          0\n",
      "systemloanid        0\n",
      "loannumber          0\n",
      "approveddate        0\n",
      "creationdate        0\n",
      "loanamount          0\n",
      "totaldue            0\n",
      "termdays            0\n",
      "referredby       3781\n",
      "good_bad_flag       0\n",
      "dtype: int64\n"
     ]
    }
   ],
   "source": [
    "# performance data\n",
    "print(train_performance.isnull().sum())"
   ]
  },
  {
   "cell_type": "code",
   "execution_count": 7,
   "metadata": {},
   "outputs": [
    {
     "name": "stdout",
     "output_type": "stream",
     "text": [
      "customerid             0\n",
      "systemloanid           0\n",
      "loannumber             0\n",
      "approveddate           0\n",
      "creationdate           0\n",
      "loanamount             0\n",
      "totaldue               0\n",
      "termdays               0\n",
      "closeddate             0\n",
      "referredby         17157\n",
      "firstduedate           0\n",
      "firstrepaiddate        0\n",
      "dtype: int64\n"
     ]
    }
   ],
   "source": [
    "# previous loans data\n",
    "print(train_previous_loans.isnull().sum())"
   ]
  }
 ],
 "metadata": {
  "kernelspec": {
   "display_name": "env",
   "language": "python",
   "name": "python3"
  },
  "language_info": {
   "codemirror_mode": {
    "name": "ipython",
    "version": 3
   },
   "file_extension": ".py",
   "mimetype": "text/x-python",
   "name": "python",
   "nbconvert_exporter": "python",
   "pygments_lexer": "ipython3",
   "version": "3.12.0"
  }
 },
 "nbformat": 4,
 "nbformat_minor": 2
}
